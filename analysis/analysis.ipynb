{
 "cells": [
  {
   "cell_type": "code",
   "execution_count": 15,
   "id": "db5720a3",
   "metadata": {},
   "outputs": [],
   "source": [
    "import numpy as np\n",
    "import pandas as pd\n",
    "import matplotlib.pyplot as plt\n",
    "import seaborn as sns\n",
    "import os\n",
    "import pdfplumber\n",
    "import re"
   ]
  },
  {
   "cell_type": "code",
   "execution_count": 271,
   "id": "e67c5c7d",
   "metadata": {},
   "outputs": [
    {
     "name": "stderr",
     "output_type": "stream",
     "text": [
      "CropBox missing from /Page, defaulting to MediaBox\n",
      "CropBox missing from /Page, defaulting to MediaBox\n",
      "CropBox missing from /Page, defaulting to MediaBox\n",
      "CropBox missing from /Page, defaulting to MediaBox\n",
      "CropBox missing from /Page, defaulting to MediaBox\n",
      "CropBox missing from /Page, defaulting to MediaBox\n",
      "CropBox missing from /Page, defaulting to MediaBox\n",
      "CropBox missing from /Page, defaulting to MediaBox\n",
      "CropBox missing from /Page, defaulting to MediaBox\n",
      "CropBox missing from /Page, defaulting to MediaBox\n",
      "CropBox missing from /Page, defaulting to MediaBox\n",
      "CropBox missing from /Page, defaulting to MediaBox\n",
      "CropBox missing from /Page, defaulting to MediaBox\n",
      "CropBox missing from /Page, defaulting to MediaBox\n",
      "CropBox missing from /Page, defaulting to MediaBox\n",
      "CropBox missing from /Page, defaulting to MediaBox\n",
      "CropBox missing from /Page, defaulting to MediaBox\n",
      "CropBox missing from /Page, defaulting to MediaBox\n",
      "CropBox missing from /Page, defaulting to MediaBox\n",
      "CropBox missing from /Page, defaulting to MediaBox\n",
      "CropBox missing from /Page, defaulting to MediaBox\n",
      "CropBox missing from /Page, defaulting to MediaBox\n",
      "CropBox missing from /Page, defaulting to MediaBox\n",
      "CropBox missing from /Page, defaulting to MediaBox\n",
      "CropBox missing from /Page, defaulting to MediaBox\n",
      "CropBox missing from /Page, defaulting to MediaBox\n",
      "CropBox missing from /Page, defaulting to MediaBox\n",
      "CropBox missing from /Page, defaulting to MediaBox\n"
     ]
    }
   ],
   "source": [
    "\n",
    "\n",
    "# Path to your PDF file\n",
    "pdf_path = \"../data/pdf/Feb8.pdf\"\n",
    "\n",
    "with pdfplumber.open(pdf_path, pages = [1]) as pdf:\n",
    "    # Extract text from each page\n",
    "    text = \"\"\n",
    "    for page in pdf.pages:\n",
    "        text += page.extract_text();\n",
    "\n",
    "#matches = re.findall(r'#(.*?)(?=TM)', text)"
   ]
  },
  {
   "cell_type": "code",
   "execution_count": 284,
   "id": "cb810409",
   "metadata": {},
   "outputs": [
    {
     "ename": "PatternError",
     "evalue": "unbalanced parenthesis at position 54",
     "output_type": "error",
     "traceback": [
      "\u001b[31m---------------------------------------------------------------------------\u001b[39m",
      "\u001b[31mPatternError\u001b[39m                              Traceback (most recent call last)",
      "\u001b[36mCell\u001b[39m\u001b[36m \u001b[39m\u001b[32mIn[284]\u001b[39m\u001b[32m, line 1\u001b[39m\n\u001b[32m----> \u001b[39m\u001b[32m1\u001b[39m matches = \u001b[43mre\u001b[49m\u001b[43m.\u001b[49m\u001b[43mfindall\u001b[49m\u001b[43m(\u001b[49m\u001b[33;43mr\u001b[39;49m\u001b[33;43m'\u001b[39;49m\u001b[33;43mSouthern Oregon \u001b[39;49m\u001b[33;43m\\\u001b[39;49m\u001b[33;43md+.n[\u001b[39;49m\u001b[33;43m\\\u001b[39;49m\u001b[33;43ms\u001b[39;49m\u001b[33;43m\\\u001b[39;49m\u001b[33;43mS]*?(# Player[\u001b[39;49m\u001b[33;43m\\\u001b[39;49m\u001b[33;43ms\u001b[39;49m\u001b[33;43m\\\u001b[39;49m\u001b[33;43mS]*?TM Team))\u001b[39;49m\u001b[33;43m'\u001b[39;49m\u001b[43m,\u001b[49m\u001b[43m \u001b[49m\u001b[43mtext\u001b[49m\u001b[43m,\u001b[49m\u001b[43m \u001b[49m\u001b[43mre\u001b[49m\u001b[43m.\u001b[49m\u001b[43mDOTALL\u001b[49m\u001b[43m)\u001b[49m\n\u001b[32m      2\u001b[39m matches_date = re.findall(\u001b[33mr\u001b[39m\u001b[33m'\u001b[39m\u001b[33mDate: \u001b[39m\u001b[33m\\\u001b[39m\u001b[33ms*(........)\u001b[39m\u001b[33m'\u001b[39m, text)\n\u001b[32m      3\u001b[39m matches\n",
      "\u001b[36mFile \u001b[39m\u001b[32m/Library/Frameworks/Python.framework/Versions/3.13/lib/python3.13/re/__init__.py:278\u001b[39m, in \u001b[36mfindall\u001b[39m\u001b[34m(pattern, string, flags)\u001b[39m\n\u001b[32m    270\u001b[39m \u001b[38;5;28;01mdef\u001b[39;00m\u001b[38;5;250m \u001b[39m\u001b[34mfindall\u001b[39m(pattern, string, flags=\u001b[32m0\u001b[39m):\n\u001b[32m    271\u001b[39m \u001b[38;5;250m    \u001b[39m\u001b[33;03m\"\"\"Return a list of all non-overlapping matches in the string.\u001b[39;00m\n\u001b[32m    272\u001b[39m \n\u001b[32m    273\u001b[39m \u001b[33;03m    If one or more capturing groups are present in the pattern, return\u001b[39;00m\n\u001b[32m   (...)\u001b[39m\u001b[32m    276\u001b[39m \n\u001b[32m    277\u001b[39m \u001b[33;03m    Empty matches are included in the result.\"\"\"\u001b[39;00m\n\u001b[32m--> \u001b[39m\u001b[32m278\u001b[39m     \u001b[38;5;28;01mreturn\u001b[39;00m \u001b[43m_compile\u001b[49m\u001b[43m(\u001b[49m\u001b[43mpattern\u001b[49m\u001b[43m,\u001b[49m\u001b[43m \u001b[49m\u001b[43mflags\u001b[49m\u001b[43m)\u001b[49m.findall(string)\n",
      "\u001b[36mFile \u001b[39m\u001b[32m/Library/Frameworks/Python.framework/Versions/3.13/lib/python3.13/re/__init__.py:350\u001b[39m, in \u001b[36m_compile\u001b[39m\u001b[34m(pattern, flags)\u001b[39m\n\u001b[32m    348\u001b[39m \u001b[38;5;28;01mif\u001b[39;00m \u001b[38;5;129;01mnot\u001b[39;00m _compiler.isstring(pattern):\n\u001b[32m    349\u001b[39m     \u001b[38;5;28;01mraise\u001b[39;00m \u001b[38;5;167;01mTypeError\u001b[39;00m(\u001b[33m\"\u001b[39m\u001b[33mfirst argument must be string or compiled pattern\u001b[39m\u001b[33m\"\u001b[39m)\n\u001b[32m--> \u001b[39m\u001b[32m350\u001b[39m p = \u001b[43m_compiler\u001b[49m\u001b[43m.\u001b[49m\u001b[43mcompile\u001b[49m\u001b[43m(\u001b[49m\u001b[43mpattern\u001b[49m\u001b[43m,\u001b[49m\u001b[43m \u001b[49m\u001b[43mflags\u001b[49m\u001b[43m)\u001b[49m\n\u001b[32m    351\u001b[39m \u001b[38;5;28;01mif\u001b[39;00m flags & DEBUG:\n\u001b[32m    352\u001b[39m     \u001b[38;5;28;01mreturn\u001b[39;00m p\n",
      "\u001b[36mFile \u001b[39m\u001b[32m/Library/Frameworks/Python.framework/Versions/3.13/lib/python3.13/re/_compiler.py:748\u001b[39m, in \u001b[36mcompile\u001b[39m\u001b[34m(p, flags)\u001b[39m\n\u001b[32m    746\u001b[39m \u001b[38;5;28;01mif\u001b[39;00m isstring(p):\n\u001b[32m    747\u001b[39m     pattern = p\n\u001b[32m--> \u001b[39m\u001b[32m748\u001b[39m     p = \u001b[43m_parser\u001b[49m\u001b[43m.\u001b[49m\u001b[43mparse\u001b[49m\u001b[43m(\u001b[49m\u001b[43mp\u001b[49m\u001b[43m,\u001b[49m\u001b[43m \u001b[49m\u001b[43mflags\u001b[49m\u001b[43m)\u001b[49m\n\u001b[32m    749\u001b[39m \u001b[38;5;28;01melse\u001b[39;00m:\n\u001b[32m    750\u001b[39m     pattern = \u001b[38;5;28;01mNone\u001b[39;00m\n",
      "\u001b[36mFile \u001b[39m\u001b[32m/Library/Frameworks/Python.framework/Versions/3.13/lib/python3.13/re/_parser.py:985\u001b[39m, in \u001b[36mparse\u001b[39m\u001b[34m(str, flags, state)\u001b[39m\n\u001b[32m    983\u001b[39m \u001b[38;5;28;01mif\u001b[39;00m source.next \u001b[38;5;129;01mis\u001b[39;00m \u001b[38;5;129;01mnot\u001b[39;00m \u001b[38;5;28;01mNone\u001b[39;00m:\n\u001b[32m    984\u001b[39m     \u001b[38;5;28;01massert\u001b[39;00m source.next == \u001b[33m\"\u001b[39m\u001b[33m)\u001b[39m\u001b[33m\"\u001b[39m\n\u001b[32m--> \u001b[39m\u001b[32m985\u001b[39m     \u001b[38;5;28;01mraise\u001b[39;00m source.error(\u001b[33m\"\u001b[39m\u001b[33munbalanced parenthesis\u001b[39m\u001b[33m\"\u001b[39m)\n\u001b[32m    987\u001b[39m \u001b[38;5;28;01mfor\u001b[39;00m g \u001b[38;5;129;01min\u001b[39;00m p.state.grouprefpos:\n\u001b[32m    988\u001b[39m     \u001b[38;5;28;01mif\u001b[39;00m g >= p.state.groups:\n",
      "\u001b[31mPatternError\u001b[39m: unbalanced parenthesis at position 54"
     ]
    }
   ],
   "source": [
    "matches = re.findall(r'Southern Oregon \\d+.n[\\s\\S]*?(# Player[\\s\\S]*?TM Team))', text, re.DOTALL)\n",
    "matches_date = re.findall(r'Date: \\s*(........)', text)\n",
    "matches"
   ]
  },
  {
   "cell_type": "code",
   "execution_count": 280,
   "id": "91b0a42f",
   "metadata": {},
   "outputs": [
    {
     "ename": "IndexError",
     "evalue": "list index out of range",
     "output_type": "error",
     "traceback": [
      "\u001b[31m---------------------------------------------------------------------------\u001b[39m",
      "\u001b[31mIndexError\u001b[39m                                Traceback (most recent call last)",
      "\u001b[36mCell\u001b[39m\u001b[36m \u001b[39m\u001b[32mIn[280]\u001b[39m\u001b[32m, line 48\u001b[39m\n\u001b[32m     46\u001b[39m players = split_stats[\u001b[32m1\u001b[39m:-\u001b[32m1\u001b[39m]\n\u001b[32m     47\u001b[39m players = \u001b[38;5;28mlist\u001b[39m(\u001b[38;5;28mmap\u001b[39m(merge_and_pop, players))\n\u001b[32m---> \u001b[39m\u001b[32m48\u001b[39m players = \u001b[38;5;28;43mlist\u001b[39;49m\u001b[43m(\u001b[49m\u001b[38;5;28;43mmap\u001b[39;49m\u001b[43m(\u001b[49m\u001b[43mnon_start\u001b[49m\u001b[43m,\u001b[49m\u001b[43m \u001b[49m\u001b[43mplayers\u001b[49m\u001b[43m)\u001b[49m\u001b[43m)\u001b[49m\n\u001b[32m     49\u001b[39m players\n\u001b[32m     51\u001b[39m stat_dict = {key: [] \u001b[38;5;28;01mfor\u001b[39;00m key \u001b[38;5;129;01min\u001b[39;00m title}\n",
      "\u001b[36mCell\u001b[39m\u001b[36m \u001b[39m\u001b[32mIn[280]\u001b[39m\u001b[32m, line 24\u001b[39m, in \u001b[36mnon_start\u001b[39m\u001b[34m(lst)\u001b[39m\n\u001b[32m     22\u001b[39m \u001b[38;5;28;01mdef\u001b[39;00m\u001b[38;5;250m \u001b[39m\u001b[34mnon_start\u001b[39m(lst:\u001b[38;5;28mlist\u001b[39m):\n\u001b[32m     23\u001b[39m \u001b[38;5;250m    \u001b[39m\u001b[33;03m'''fills in a value if the player didn't start'''\u001b[39;00m\n\u001b[32m---> \u001b[39m\u001b[32m24\u001b[39m     \u001b[38;5;28;01mif\u001b[39;00m \u001b[43mlst\u001b[49m\u001b[43m[\u001b[49m\u001b[32;43m2\u001b[39;49m\u001b[43m]\u001b[49m != \u001b[33m'\u001b[39m\u001b[33m*\u001b[39m\u001b[33m'\u001b[39m:\n\u001b[32m     25\u001b[39m         lst = lst[:\u001b[32m2\u001b[39m] + [\u001b[33m'\u001b[39m\u001b[33m-\u001b[39m\u001b[33m'\u001b[39m] + lst[\u001b[32m2\u001b[39m:]\n\u001b[32m     26\u001b[39m     \u001b[38;5;28;01mreturn\u001b[39;00m  lst\n",
      "\u001b[31mIndexError\u001b[39m: list index out of range"
     ]
    }
   ],
   "source": [
    "stats = matches[0]\n",
    "stats\n",
    "\n",
    "stats = stats.strip().split(sep = '\\n')\n",
    "split_stats = list(map(str.split, stats))\n",
    "split_stats\n",
    "\n",
    "\n",
    "def int_convet(x:str):\n",
    "    try:\n",
    "        return int(x)\n",
    "    except ValueError:\n",
    "        return x\n",
    "    \n",
    "def merge_and_pop(lst:list):\n",
    "    '''merges and pops the name'''\n",
    "    lst[1] = lst[1] + ' ' + lst[2]\n",
    "    lst.pop(2)\n",
    "    return lst\n",
    "split_stats\n",
    "\n",
    "def non_start(lst:list):\n",
    "    '''fills in a value if the player didn't start'''\n",
    "    if lst[2] != '*':\n",
    "        lst = lst[:2] + ['-'] + lst[2:]\n",
    "    return  lst\n",
    "\n",
    "def get_opponent(raw_text:str):\n",
    "    \"\"\"\n",
    "    The first line should hold something like\n",
    "    'Southern Oregon (7-0, 1-0) -vs- College of Idaho (2-4, 0-1):'\n",
    "    \"\"\"\n",
    "    line = raw_text.split('\\n')[0]\n",
    "    teams = line.split(' -vs- ')\n",
    "    team1, team2 = re.findall(r'(^.+)(?: \\(\\S+\\s\\S+)', teams[0])[0], re.findall(r'(^.+)(?: \\(\\S+\\s\\S+)', teams[1])[0]\n",
    "\n",
    "    if team1 == 'Southern Oregon':\n",
    "            return team2\n",
    "    return team1\n",
    "\n",
    "opponent = get_opponent(text)\n",
    "title = ['#'] + split_stats[0] + ['opponent'] + ['date']\n",
    "\n",
    "player_stats = {key: [] for key in title}\n",
    "\n",
    "players = split_stats[1:-1]\n",
    "players = list(map(merge_and_pop, players))\n",
    "players = list(map(non_start, players))\n",
    "players\n",
    "\n",
    "stat_dict = {key: [] for key in title}\n",
    "\n",
    "for player in players:\n",
    "\n",
    "    for stat, data in zip(title, player):\n",
    "        stat_dict[stat].append(data)\n",
    "    stat_dict['opponent'].append(opponent)\n",
    "    stat_dict['date'].append(matches_date)\n",
    "\n",
    "\n",
    "\n",
    "\n"
   ]
  },
  {
   "cell_type": "code",
   "execution_count": 269,
   "id": "5eb4b02d",
   "metadata": {},
   "outputs": [
    {
     "data": {
      "text/plain": [
       "'Corban (OR) (10-14, 8-10) -vs- Southern Oregon (23-0, 17-0)\\n02/08/25 at Ashland, Ore. (Lithia Motors Pavilion)\\nDate: 02/08/25 Score By Period 1 2 3 4 Total\\nTime: 3:30 PM\\nCorban (OR) 13 12 20 15 60\\nAttendance: 430\\nSite: Ashland, Ore. (Lithia Motors Pavilion) Southern Oregon 16 21 21 12 70\\nReferees: Phillip Henrichs, Daniel Walker, Ryan Baljo\\nCorban (OR) 60\\n# Player GS MIN FG 3PT FT ORB-DRB REB PF A TO BLK STL PTS\\n15 Tori Younker * 25 5-7 3-4 0-0 0-2 2 3 2 6 0 2 13\\n22 Jenna Albrecht * 28 4-10 0-3 2-2 0-0 0 0 3 1 1 1 10\\n24 Lizzy Bennett * 26 4-9 2-5 0-0 1-5 6 1 3 1 1 1 10\\n2 Alyssa Wyllie * 28 2-8 0-3 0-0 0-0 0 3 0 1 0 0 4\\n33 Madison Hodnett * 24 2-7 0-0 0-2 2-7 9 1 2 0 3 2 4\\n14 Mandie Jensen 26 5-6 0-0 3-4 3-3 6 3 1 1 0 0 13\\n3 Gemma LaVergne 16 1-4 1-4 0-0 0-1 1 1 1 1 1 1 3\\n23 Tayla Yost 12 1-4 0-2 0-0 2-2 4 1 2 0 0 0 2\\n25 Sevennah Van De Riet 15 0-1 0-0 1-2 1-3 4 2 3 4 0 1 1\\nTM Team 0 0-0 0-0 0-0 1-0 1 0 0 0 0 0 0\\nTotals - 200 24-56 6-21 6-10 10-23 33 15 17 15 6 8 60\\nTeam Summary FG 3PT FT\\n1st Quarter 4-14 28.57% 2-10 20.00% 3-4 75.00%\\n2nd Quarter 5-15 33.33% 2-7 28.57% 0-0 0.00%\\n3rd Quarter 9-16 56.25% 1-2 50.00% 1-2 50.00%\\n4th Quarter 6-11 54.55% 1-2 50.00% 2-4 50.00%\\nTotal 24-56 42.9% 6-21 28.6% 6-10 60.0%\\nTechnical Fouls: none Second Chance Points: 11 Scores Tied: 1 times(s) Points in the Paint: 30 Fast Break Points: 7\\nLead Changed: 0 times(s) Points off Turnovers: 11 Bench Points: 19 Largest Lead: 0 -\\nSouthern Oregon 70\\n# Player GS MIN FG 3PT FT ORB-DRB REB PF A TO BLK STL PTS\\n12 Emma Schmerbach * 28 7-11 0-1 0-2 4-5 9 2 2 2 1 1 14\\n20 Morgan Baird * 28 5-11 0-0 4-5 2-2 4 0 3 1 0 0 14\\n10 Bridgette McIntyre * 30 4-8 4-8 0-0 0-2 2 2 1 2 0 1 12\\n1 Meghan McIntyre * 32 2-10 0-1 6-10 2-5 7 0 4 2 0 3 10\\n23 Clara Robbins * 11 0-1 0-0 0-2 0-1 1 4 0 0 1 3 0\\n32 Eliza DiGiulio 24 5-8 1-2 1-2 1-1 2 1 3 0 1 1 12\\n33 Mallory Williams 12 2-2 2-2 0-0 0-2 2 1 0 1 0 0 6\\n5 Makayla Scurlock 12 1-3 0-0 0-0 0-4 4 1 0 1 0 1 2\\n22 Sierra Scheppele 15 0-1 0-1 0-0 0-1 1 0 1 1 0 0 0\\n13 Keeley Wright 8 0-1 0-0 0-0 1-0 1 1 1 0 0 0 0\\nTM Team 0 0-0 0-0 0-0 1-2 3 0 0 1 0 0 0\\nTotals - 200 26-56 7-15 11-21 11-25 36 12 15 11 3 10 70\\nTeam Summary FG 3PT FT\\n1st Quarter 7-15 46.67% 1-3 33.33% 1-5 20.00%\\n2nd Quarter 8-15 53.33% 3-5 60.00% 2-2 100.00%\\n3rd Quarter 9-13 69.23% 3-4 75.00% 0-0 0.00%\\n4th Quarter 2-13 15.38% 0-3 0.00% 8-14 57.14%\\nTotal 26-56 46.4% 7-15 46.7% 11-21 52.4%\\nTechnical Fouls: none Second Chance Points: 13 Scores Tied: 0 times(s) Points in the Paint: 36 Fast Break Points: 8\\nLargest Lead: 17 3rd-\\nLead Changed: 0 times(s) Points off Turnovers: 17 Bench Points: 20 05:09'"
      ]
     },
     "execution_count": 269,
     "metadata": {},
     "output_type": "execute_result"
    }
   ],
   "source": [
    "text"
   ]
  },
  {
   "cell_type": "code",
   "execution_count": 270,
   "id": "6e1e4594",
   "metadata": {},
   "outputs": [
    {
     "data": {
      "text/plain": [
       "{'#': ['15', '22', '24', '2', '33', '14', '3', '23', '25'],\n",
       " 'Player': ['Tori Younker',\n",
       "  'Jenna Albrecht',\n",
       "  'Lizzy Bennett',\n",
       "  'Alyssa Wyllie',\n",
       "  'Madison Hodnett',\n",
       "  'Mandie Jensen',\n",
       "  'Gemma LaVergne',\n",
       "  'Tayla Yost',\n",
       "  'Sevennah Van'],\n",
       " 'GS': ['*', '*', '*', '*', '*', '-', '-', '-', '-'],\n",
       " 'MIN': ['25', '28', '26', '28', '24', '26', '16', '12', 'De'],\n",
       " 'FG': ['5-7', '4-10', '4-9', '2-8', '2-7', '5-6', '1-4', '1-4', 'Riet'],\n",
       " '3PT': ['3-4', '0-3', '2-5', '0-3', '0-0', '0-0', '1-4', '0-2', '15'],\n",
       " 'FT': ['0-0', '2-2', '0-0', '0-0', '0-2', '3-4', '0-0', '0-0', '0-1'],\n",
       " 'ORB-DRB': ['0-2', '0-0', '1-5', '0-0', '2-7', '3-3', '0-1', '2-2', '0-0'],\n",
       " 'REB': ['2', '0', '6', '0', '9', '6', '1', '4', '1-2'],\n",
       " 'PF': ['3', '0', '1', '3', '1', '3', '1', '1', '1-3'],\n",
       " 'A': ['2', '3', '3', '0', '2', '1', '1', '2', '4'],\n",
       " 'TO': ['6', '1', '1', '1', '0', '1', '1', '0', '2'],\n",
       " 'BLK': ['0', '1', '1', '0', '3', '0', '1', '0', '3'],\n",
       " 'STL': ['2', '1', '1', '0', '2', '0', '1', '0', '4'],\n",
       " 'PTS': ['13', '10', '10', '4', '4', '13', '3', '2', '0'],\n",
       " 'opponent': ['Corban (OR)',\n",
       "  'Corban (OR)',\n",
       "  'Corban (OR)',\n",
       "  'Corban (OR)',\n",
       "  'Corban (OR)',\n",
       "  'Corban (OR)',\n",
       "  'Corban (OR)',\n",
       "  'Corban (OR)',\n",
       "  '1',\n",
       "  'Corban (OR)'],\n",
       " 'date': [['02/08/25'],\n",
       "  ['02/08/25'],\n",
       "  ['02/08/25'],\n",
       "  ['02/08/25'],\n",
       "  ['02/08/25'],\n",
       "  ['02/08/25'],\n",
       "  ['02/08/25'],\n",
       "  ['02/08/25'],\n",
       "  '1',\n",
       "  ['02/08/25']]}"
      ]
     },
     "execution_count": 270,
     "metadata": {},
     "output_type": "execute_result"
    }
   ],
   "source": [
    "stat_dict"
   ]
  },
  {
   "cell_type": "code",
   "execution_count": null,
   "id": "11b6ef7b",
   "metadata": {},
   "outputs": [],
   "source": []
  }
 ],
 "metadata": {
  "kernelspec": {
   "display_name": "skynet",
   "language": "python",
   "name": "python3"
  },
  "language_info": {
   "codemirror_mode": {
    "name": "ipython",
    "version": 3
   },
   "file_extension": ".py",
   "mimetype": "text/x-python",
   "name": "python",
   "nbconvert_exporter": "python",
   "pygments_lexer": "ipython3",
   "version": "3.13.1"
  }
 },
 "nbformat": 4,
 "nbformat_minor": 5
}
