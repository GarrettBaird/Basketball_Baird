{
 "cells": [
  {
   "cell_type": "markdown",
   "id": "f81b3aef",
   "metadata": {},
   "source": [
    "# SOU Exploratory Analyis & File Creation"
   ]
  },
  {
   "cell_type": "markdown",
   "id": "cf7fcd12",
   "metadata": {},
   "source": [
    "### Libraries"
   ]
  },
  {
   "cell_type": "code",
   "execution_count": 14,
   "id": "db5720a3",
   "metadata": {},
   "outputs": [],
   "source": [
    "import numpy as np\n",
    "import pandas as pd\n",
    "import matplotlib.pyplot as plt\n",
    "import seaborn as sns\n",
    "import os\n",
    "import pdfplumber\n",
    "import re\n",
    "\n",
    "# Personal Lib for this project\n",
    "from tools import *"
   ]
  },
  {
   "cell_type": "code",
   "execution_count": 15,
   "id": "27031fec",
   "metadata": {},
   "outputs": [],
   "source": [
    "def merge_and_pop(lst:list):\n",
    "    '''merges and pops the name'''\n",
    "    if ',' in lst[1]:\n",
    "        last, first = lst[1].split(',')\n",
    "        last, first = last.lower(), first.lower()\n",
    "        lst[1] = first.capitalize() + ' ' + last.capitalize()\n",
    "    else:\n",
    "        lst[1] = lst[1] + ' ' + lst[2]\n",
    "        lst.pop(2)\n",
    "    return lst\n",
    "\n"
   ]
  },
  {
   "cell_type": "markdown",
   "id": "0952a3b0",
   "metadata": {},
   "source": [
    "### Testing on One File\n",
    "- TODO:\n",
    "    Compile everything into one function"
   ]
  },
  {
   "cell_type": "code",
   "execution_count": 16,
   "id": "e67c5c7d",
   "metadata": {},
   "outputs": [],
   "source": [
    "# Path to for rep file\n",
    "pdf_path = \"../data/pdf/March20.pdf\"\n",
    "\n",
    "with pdfplumber.open(pdf_path, pages = [1]) as pdf:\n",
    "    # Extract text from each page\n",
    "    text = \"\"\n",
    "    for page in pdf.pages:\n",
    "        text += page.extract_text();"
   ]
  },
  {
   "cell_type": "markdown",
   "id": "0a788221",
   "metadata": {},
   "source": [
    "# Grab the text and figure out use case"
   ]
  },
  {
   "cell_type": "code",
   "execution_count": 17,
   "id": "cb810409",
   "metadata": {},
   "outputs": [
    {
     "data": {
      "text/plain": [
       "['# Player GS MIN FG 3PT FT ORB-DRB REB PF A TO BLK STL PTS\\n20 Baird, Morgan * 16 7-14 1-2 8-8 1-3 4 0 0 1 0 0 23\\n10 McIntyre, Bridgette * 32 5-10 4-7 0-0 1-3 4 0 2 1 0 3 14\\n12 Schmerbach, Emma * 30 4-12 0-1 6-6 1-1 2 3 0 2 0 0 14\\n01 McIntyre, Meghan * 34 2-11 0-0 1-4 1-4 5 3 8 4 0 2 5\\n23 Robbins, Clara * 23 0-5 0-0 0-0 0-5 5 3 0 0 0 1 0\\n22 Scheppele, Sierra 25 2-4 2-3 0-0 0-1 1 0 0 2 0 2 6\\n32 DiGiulio, Eliza 11 1-2 0-0 2-2 1-2 3 2 1 0 0 1 4\\n13 Wright, Keeley 9 0-1 0-0 1-2 1-4 5 1 1 0 0 0 1\\n05 Scurlock, Makayla 14 0-1 0-0 0-0 0-1 1 1 0 0 0 0 0\\n33 Williams, Mallory 6 0-1 0-1 0-0 0-2 2 0 0 0 0 0 0\\nTM Team']"
      ]
     },
     "execution_count": 17,
     "metadata": {},
     "output_type": "execute_result"
    }
   ],
   "source": [
    "matches = re.findall(r'Southern Oregon \\d+..(#[\\s\\S]+?..TM Team)', text, re.DOTALL)\n",
    "matches_date = re.findall(r'Date: \\s*(........)', text)\n",
    "matches"
   ]
  },
  {
   "cell_type": "code",
   "execution_count": 18,
   "id": "91b0a42f",
   "metadata": {},
   "outputs": [],
   "source": [
    "stats = matches[0]\n",
    "stats = stats.strip().split(sep = '\\n')\n",
    "split_stats = list(map(str.split, stats))\n",
    "\n",
    "opponent = get_opponent(text)\n",
    "title = split_stats[0] + ['Opponent'] + ['Date']\n",
    "\n",
    "player_stats = {key: [] for key in title}\n",
    "\n",
    "players = split_stats[1:-1]\n",
    "players = list(map(merge_and_pop, players))\n",
    "players = list(map(non_start, players))\n",
    "players\n",
    "\n",
    "stat_dict = {key: [] for key in title}\n",
    "\n",
    "for player in players:\n",
    "\n",
    "    for stat, data in zip(title, player):\n",
    "        stat_dict[stat].append(data)\n",
    "    stat_dict['Opponent'].append(opponent)\n",
    "    stat_dict['Date'].append(matches_date[0])\n",
    "\n",
    "# Proof of Concept\n",
    "#pd.DataFrame.from_dict(stat_dict)"
   ]
  },
  {
   "cell_type": "code",
   "execution_count": 19,
   "id": "ebf7ae01",
   "metadata": {},
   "outputs": [],
   "source": [
    "def folder_to_csv(folder_path:str, test:bool = False):\n",
    "    \n",
    "    if test:\n",
    "        folder = [folder_path]\n",
    "    else:\n",
    "        folder = folder_to_list(folder_path)\n",
    "\n",
    "    i = 0 # used to track the number of files\n",
    "\n",
    "    for file in folder:\n",
    "        print(i, file)\n",
    "        with pdfplumber.open(file, pages= [1]) as pdf:\n",
    "            \n",
    "            # Extract text from each page\n",
    "            text = \"\"\n",
    "            for page in pdf.pages:\n",
    "                text += page.extract_text();\n",
    "        matches = re.findall(r'Southern Oregon \\d+..(#[\\s\\S]+?..TM T)', text, re.DOTALL)\n",
    "        matches_date = re.findall(r'Date: \\s*(........)', text)\n",
    "\n",
    "        stats = matches[0]\n",
    "        stats = stats.strip().split(sep = '\\n')\n",
    "        split_stats = list(map(str.split, stats))\n",
    "\n",
    "        opponent = get_opponent(text)\n",
    "        title = split_stats[0] + ['Opponent'] + ['Date']\n",
    "\n",
    "        players = split_stats[1:-1]\n",
    "        players = list(map(merge_and_pop, players))\n",
    "        players = list(map(non_start, players))\n",
    "        players\n",
    "\n",
    "        if i == 0:\n",
    "            stat_dict = {key: [] for key in title}\n",
    "\n",
    "        for player in players:\n",
    "\n",
    "            for stat, data in zip(title, player):\n",
    "                stat_dict[stat].append(data)\n",
    "            stat_dict['Opponent'].append(opponent)#new\n",
    "            stat_dict['Date'].append(matches_date[0])#new\n",
    " \n",
    "        if len(stat_dict['Date']) != len(stat_dict['Player']):\n",
    "            print(matches_date, 'Length of PTS and Player do not match')\n",
    "        i += 1\n",
    "\n",
    "    return (stat_dict)"
   ]
  },
  {
   "cell_type": "markdown",
   "id": "c5445c2f",
   "metadata": {},
   "source": [
    "# Testing Area"
   ]
  },
  {
   "cell_type": "code",
   "execution_count": 20,
   "id": "5afa615e",
   "metadata": {},
   "outputs": [
    {
     "data": {
      "text/plain": [
       "35"
      ]
     },
     "execution_count": 20,
     "metadata": {},
     "output_type": "execute_result"
    }
   ],
   "source": [
    "len(folder_to_list('../data/pdf/'))"
   ]
  },
  {
   "cell_type": "code",
   "execution_count": 21,
   "id": "1001ff05",
   "metadata": {},
   "outputs": [
    {
     "name": "stdout",
     "output_type": "stream",
     "text": [
      "0 ../data/pdf/Jan03.pdf\n",
      "1 ../data/pdf/March1.pdf\n",
      "2 ../data/pdf/Jan17.pdf\n",
      "3 ../data/pdf/March4.pdf\n",
      "4 ../data/pdf/March20.pdf\n",
      "['03/20/25'] Length of PTS and Player do not match\n",
      "5 ../data/pdf/March22.pdf\n",
      "['03/22/25'] Length of PTS and Player do not match\n",
      "6 ../data/pdf/Jan04.pdf\n",
      "['01/04/25'] Length of PTS and Player do not match\n",
      "7 ../data/pdf/Jan10.pdf\n",
      "['01/10/25'] Length of PTS and Player do not match\n",
      "8 ../data/pdf/Jan11.pdf\n",
      "['01/11/25'] Length of PTS and Player do not match\n",
      "9 ../data/pdf/Dec14.pdf\n",
      "['12/14/24'] Length of PTS and Player do not match\n",
      "10 ../data/pdf/Feb7.pdf\n",
      "['02/07/25'] Length of PTS and Player do not match\n",
      "11 ../data/pdf/Nov23.pdf\n",
      "['11/23/24'] Length of PTS and Player do not match\n",
      "12 ../data/pdf/Dec06.pdf\n",
      "['12/06/24'] Length of PTS and Player do not match\n",
      "13 ../data/pdf/Dec07.pdf\n",
      "['12/07/24'] Length of PTS and Player do not match\n",
      "14 ../data/pdf/Feb1.pdf\n",
      "['02/01/25'] Length of PTS and Player do not match\n",
      "15 ../data/pdf/Feb14.pdf\n",
      "['02/14/25'] Length of PTS and Player do not match\n",
      "16 ../data/pdf/Nov21.pdf\n",
      "['11/21/24'] Length of PTS and Player do not match\n",
      "17 ../data/pdf/Feb15.pdf\n",
      "['02/15/25'] Length of PTS and Player do not match\n",
      "18 ../data/pdf/Feb18.pdf\n",
      "['02/18/25'] Length of PTS and Player do not match\n",
      "19 ../data/pdf/Dec21.pdf\n",
      "['12/21/24'] Length of PTS and Player do not match\n",
      "20 ../data/pdf/Dec20.pdf\n",
      "['12/20/24'] Length of PTS and Player do not match\n",
      "21 ../data/pdf/Feb26.pdf\n",
      "['02/26/25'] Length of PTS and Player do not match\n",
      "22 ../data/pdf/Feb22.pdf\n",
      "['02/22/25'] Length of PTS and Player do not match\n",
      "23 ../data/pdf/Nov16.pdf\n",
      "['11/16/24'] Length of PTS and Player do not match\n",
      "24 ../data/pdf/Feb8.pdf\n",
      "['02/08/25'] Length of PTS and Player do not match\n",
      "25 ../data/pdf/Feb21.pdf\n",
      "['02/21/25'] Length of PTS and Player do not match\n",
      "26 ../data/pdf/Nov15.pdf\n",
      "['11/15/24'] Length of PTS and Player do not match\n",
      "27 ../data/pdf/March14.pdf\n",
      "['03/14/25'] Length of PTS and Player do not match\n",
      "28 ../data/pdf/March15.pdf\n",
      "['03/15/25'] Length of PTS and Player do not match\n",
      "29 ../data/pdf/Nov1.pdf\n",
      "['11/01/24'] Length of PTS and Player do not match\n",
      "30 ../data/pdf/Jan25.pdf\n",
      "['01/25/25'] Length of PTS and Player do not match\n",
      "31 ../data/pdf/Jan31.pdf\n",
      "['01/31/25'] Length of PTS and Player do not match\n",
      "32 ../data/pdf/Jan24.pdf\n",
      "['01/24/25'] Length of PTS and Player do not match\n",
      "33 ../data/pdf/Jan18.pdf\n",
      "['01/18/25'] Length of PTS and Player do not match\n",
      "34 ../data/pdf/Nov2.pdf\n",
      "['11/02/24'] Length of PTS and Player do not match\n"
     ]
    }
   ],
   "source": [
    "x = folder_to_csv('../data/pdf')"
   ]
  },
  {
   "cell_type": "code",
   "execution_count": 22,
   "id": "959cfae2",
   "metadata": {},
   "outputs": [
    {
     "name": "stdout",
     "output_type": "stream",
     "text": [
      "# 397\n",
      "Player 397\n",
      "GS 397\n",
      "MIN 397\n",
      "FG 397\n",
      "3PT 397\n",
      "FT 397\n",
      "ORB-DRB 397\n",
      "REB 397\n",
      "PF 397\n",
      "A 397\n",
      "TO 397\n",
      "BLK 397\n",
      "STL 397\n",
      "PTS 397\n",
      "Opponent 407\n",
      "Date 402\n"
     ]
    }
   ],
   "source": [
    "for key in x:\n",
    "    print(key, len(x[key]))"
   ]
  },
  {
   "cell_type": "code",
   "execution_count": 23,
   "id": "85c5f0e6",
   "metadata": {},
   "outputs": [
    {
     "name": "stdout",
     "output_type": "stream",
     "text": [
      "0 ../data/pdf/March20.pdf\n",
      "['03/20/25'] Length of PTS and Player do not match\n",
      "# 10\n",
      "Player 10\n",
      "GS 10\n",
      "MIN 10\n",
      "FG 10\n",
      "3PT 10\n",
      "FT 10\n",
      "ORB-DRB 10\n",
      "REB 10\n",
      "PF 10\n",
      "A 10\n",
      "TO 10\n",
      "BLK 10\n",
      "STL 10\n",
      "PTS 10\n",
      "Opponent 20\n",
      "Date 15\n"
     ]
    }
   ],
   "source": [
    "tst = folder_to_csv('../data/pdf/March20.pdf', test = True)\n",
    "for key in tst:\n",
    "    print(key, len(tst[key]))"
   ]
  },
  {
   "cell_type": "code",
   "execution_count": null,
   "id": "0e106459",
   "metadata": {},
   "outputs": [],
   "source": []
  },
  {
   "cell_type": "code",
   "execution_count": null,
   "id": "a3dda1c1",
   "metadata": {},
   "outputs": [],
   "source": []
  }
 ],
 "metadata": {
  "kernelspec": {
   "display_name": "icarus",
   "language": "python",
   "name": "python3"
  },
  "language_info": {
   "codemirror_mode": {
    "name": "ipython",
    "version": 3
   },
   "file_extension": ".py",
   "mimetype": "text/x-python",
   "name": "python",
   "nbconvert_exporter": "python",
   "pygments_lexer": "ipython3",
   "version": "3.13.2"
  }
 },
 "nbformat": 4,
 "nbformat_minor": 5
}
