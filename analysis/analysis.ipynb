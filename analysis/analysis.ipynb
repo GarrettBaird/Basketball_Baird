{
 "cells": [
  {
   "cell_type": "markdown",
   "id": "f81b3aef",
   "metadata": {},
   "source": [
    "# SOU Exploratory Analyis & File Creation"
   ]
  },
  {
   "cell_type": "markdown",
   "id": "cf7fcd12",
   "metadata": {},
   "source": [
    "### Libraries"
   ]
  },
  {
   "cell_type": "code",
   "execution_count": 241,
   "id": "db5720a3",
   "metadata": {},
   "outputs": [],
   "source": [
    "import numpy as np\n",
    "import pandas as pd\n",
    "import matplotlib.pyplot as plt\n",
    "import seaborn as sns\n",
    "import os\n",
    "import pdfplumber\n",
    "import re\n",
    "\n",
    "# Personal Lib for this project\n",
    "from tools import *"
   ]
  },
  {
   "cell_type": "markdown",
   "id": "0952a3b0",
   "metadata": {},
   "source": [
    "### Testing on One File\n",
    "- TODO:\n",
    "    Compile everything into one function"
   ]
  },
  {
   "cell_type": "code",
   "execution_count": 242,
   "id": "e67c5c7d",
   "metadata": {},
   "outputs": [],
   "source": [
    "# Path to for rep file\n",
    "pdf_path = \"../data/pdf/March20.pdf\"\n",
    "\n",
    "with pdfplumber.open(pdf_path, pages = [1]) as pdf:\n",
    "    # Extract text from each page\n",
    "    text = \"\"\n",
    "    for page in pdf.pages:\n",
    "        text += page.extract_text();"
   ]
  },
  {
   "cell_type": "markdown",
   "id": "0a788221",
   "metadata": {},
   "source": [
    "# Grab the text and figure out use case"
   ]
  },
  {
   "cell_type": "code",
   "execution_count": 259,
   "id": "ebf7ae01",
   "metadata": {},
   "outputs": [],
   "source": [
    "\n",
    "def folder_to_dict(folder_path:str, test:bool = False) -> dict:\n",
    "    '''\n",
    "    Converts the pdf files to a csv file as long as it follows the same format as the example files.\n",
    "    By product is printing the name of the players. Will fix later for now its a \"Quirk\".\n",
    "    '''\n",
    "    if test:\n",
    "        folder = [folder_path]\n",
    "    else:\n",
    "        folder = folder_to_list(folder_path)\n",
    "\n",
    "    i = 0 # used to track the number of files\n",
    "\n",
    "    for file in folder:\n",
    "        #print(i, file)\n",
    "        with pdfplumber.open(file, pages= [1]) as pdf:\n",
    "            \n",
    "            # Extract text from each page\n",
    "            text = \"\"\n",
    "            for page in pdf.pages:\n",
    "                text += page.extract_text();\n",
    "\n",
    "\n",
    "        matches = re.findall(r'Southern Oregon \\d+..(#[\\s\\S]+?..TM T)', text, re.DOTALL)\n",
    "        matches[0] = matches[0].replace(', ', ',')\n",
    "\n",
    "        matches_date = re.findall(r'Date: \\s*(........)', text)\n",
    "\n",
    "        stats = matches[0]\n",
    "        stats = stats.strip().split(sep = '\\n')\n",
    "        split_stats = list(map(str.split, stats))\n",
    "\n",
    "        opponent = get_opponent(text)\n",
    "        title = split_stats[0] + ['Opponent'] + ['Date']\n",
    "\n",
    "        players = split_stats[1:-1]\n",
    "        #ISSUE HERE\n",
    "\n",
    "        players = list(map(merge_and_pop, players))\n",
    "        players = list(map(non_start, players))\n",
    "        #ISSUE HERE\n",
    "        if i == 0:\n",
    "            stat_dict = {key: [] for key in title}\n",
    "\n",
    "        for player in players:\n",
    "\n",
    "            for stat, data in zip(title, player):\n",
    "                stat_dict[stat].append(data)\n",
    "            # stat_dict['Opponent'].append(opponent)#new\n",
    "            # stat_dict['Date'].append(matches_date[0])#new\n",
    "        for name in split_stats[1:-1]:\n",
    "            stat_dict['Opponent'].append(opponent)\n",
    "            stat_dict['Date'].append(matches_date[0])\n",
    " \n",
    "        if len(stat_dict['PTS']) != len(stat_dict['Player'] or test == True):\n",
    "            print(matches_date, 'Length of PTS and Player do not match')\n",
    "            #return\n",
    "        i += 1\n",
    "\n",
    "    return (stat_dict)"
   ]
  },
  {
   "cell_type": "code",
   "execution_count": null,
   "id": "932ed297",
   "metadata": {},
   "outputs": [
    {
     "name": "stdout",
     "output_type": "stream",
     "text": [
      "Baird Morgan\n",
      "McIntyre Bridgette\n",
      "Schmerbach Emma\n",
      "McIntyre Meghan\n",
      "Robbins Clara\n",
      "Scheppele Sierra\n",
      "DiGiulio Eliza\n",
      "Wright Keeley\n",
      "Scurlock Makayla\n",
      "Williams Mallory\n",
      "MCINTYRE BRIDGETTE\n",
      "SCHMERBACH EMMA\n",
      "BAIRD MORGAN\n",
      "MCINTYRE MEGHAN\n",
      "ROBBINS CLARA\n",
      "DIGIULIO ELIZA\n",
      "WILLIAMS MALLORY\n",
      "WRIGHT KEELEY\n",
      "SCHEPPELE SIERRA\n",
      "SCURLOCK MAKAYLA\n",
      "BAIRD MORGAN\n",
      "SCHMERBACH EMMA\n",
      "MCINTYRE BRIDGETTE\n",
      "MCINTYRE MEGHAN\n",
      "ROBBINS CLARA\n",
      "WRIGHT KEELEY\n",
      "DIGIULIO ELIZA\n",
      "SCHEPPELE SIERRA\n",
      "WILLIAMS MALLORY\n",
      "TEAGUE-PERRY SHAKIA\n",
      "SCURLOCK MAKAYLA\n",
      "ZURITA JENIKA\n",
      "STEVENS ALI\n",
      "BAIRD MORGAN\n",
      "SCHMERBACH EMMA\n",
      "MCINTYRE MEGHAN\n",
      "MCINTYRE BRIDGETTE\n",
      "ROBBINS CLARA\n",
      "WILLIAMS MALLORY\n",
      "SCURLOCK MAKAYLA\n",
      "SCHEPPELE SIERRA\n",
      "TEAGUE-PERRY SHAKIA\n",
      "WRIGHT KEELEY\n",
      "DIGIULIO ELIZA\n",
      "ZURITA JENIKA\n",
      "STEVENS ALI\n"
     ]
    }
   ],
   "source": [
    "full_data = folder_to_dict('../data/pdf')\n",
    "pd."
   ]
  },
  {
   "cell_type": "markdown",
   "id": "c5445c2f",
   "metadata": {},
   "source": [
    "# Testing Area"
   ]
  },
  {
   "cell_type": "code",
   "execution_count": null,
   "id": "a20d776b",
   "metadata": {},
   "outputs": [],
   "source": [
    "pd"
   ]
  }
 ],
 "metadata": {
  "kernelspec": {
   "display_name": "icarus",
   "language": "python",
   "name": "python3"
  },
  "language_info": {
   "codemirror_mode": {
    "name": "ipython",
    "version": 3
   },
   "file_extension": ".py",
   "mimetype": "text/x-python",
   "name": "python",
   "nbconvert_exporter": "python",
   "pygments_lexer": "ipython3",
   "version": "3.13.2"
  }
 },
 "nbformat": 4,
 "nbformat_minor": 5
}
