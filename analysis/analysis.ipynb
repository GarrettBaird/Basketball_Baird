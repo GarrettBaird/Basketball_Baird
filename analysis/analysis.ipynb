{
 "cells": [
  {
   "cell_type": "markdown",
   "id": "f81b3aef",
   "metadata": {},
   "source": [
    "# SOU Exploratory Analyis & File Creation"
   ]
  },
  {
   "cell_type": "markdown",
   "id": "cf7fcd12",
   "metadata": {},
   "source": [
    "### Libraries"
   ]
  },
  {
   "cell_type": "code",
   "execution_count": 65,
   "id": "db5720a3",
   "metadata": {},
   "outputs": [],
   "source": [
    "import numpy as np\n",
    "import pandas as pd\n",
    "import matplotlib.pyplot as plt\n",
    "import seaborn as sns\n",
    "import os\n",
    "import pdfplumber\n",
    "import re\n",
    "\n",
    "# Personal Lib for this project\n",
    "from tools import *"
   ]
  },
  {
   "cell_type": "markdown",
   "id": "0952a3b0",
   "metadata": {},
   "source": [
    "### Testing on One File\n",
    "- TODO:\n",
    "    Compile everything into one function"
   ]
  },
  {
   "cell_type": "code",
   "execution_count": 66,
   "id": "e67c5c7d",
   "metadata": {},
   "outputs": [],
   "source": [
    "# Path to for rep file\n",
    "pdf_path = \"../data/pdf/March20.pdf\"\n",
    "\n",
    "with pdfplumber.open(pdf_path, pages = [1]) as pdf:\n",
    "    # Extract text from each page\n",
    "    text = \"\"\n",
    "    for page in pdf.pages:\n",
    "        text += page.extract_text();"
   ]
  },
  {
   "cell_type": "markdown",
   "id": "0a788221",
   "metadata": {},
   "source": [
    "# Grab the text and figure out use case"
   ]
  },
  {
   "cell_type": "code",
   "execution_count": 91,
   "id": "ebf7ae01",
   "metadata": {},
   "outputs": [],
   "source": [
    "def merge_and_pop(lst:list):\n",
    "    '''\n",
    "    merges and pops the name\n",
    "    '''\n",
    "    print(lst[1:3])\n",
    "    if ',' in lst[1]:\n",
    "        last, first = lst[1].lower(), lst[2].lower()\n",
    "        lst[1] = first.capitalize() + ' ' + last[:-1].capitalize()\n",
    "    else:\n",
    "        lst[1] = lst[1] + ' ' + lst[2]\n",
    "    lst.pop(2)\n",
    "    return lst\n",
    "\n",
    "\n",
    "def folder_to_csv(folder_path:str, test:bool = False):\n",
    "    \n",
    "    if test:\n",
    "        folder = [folder_path]\n",
    "    else:\n",
    "        folder = folder_to_list(folder_path)\n",
    "\n",
    "    i = 0 # used to track the number of files\n",
    "\n",
    "    for file in folder:\n",
    "        print(i, file)\n",
    "        with pdfplumber.open(file, pages= [1]) as pdf:\n",
    "            \n",
    "            # Extract text from each page\n",
    "            text = \"\"\n",
    "            for page in pdf.pages:\n",
    "                text += page.extract_text();\n",
    "        if test:\n",
    "            print(repr(text))\n",
    "\n",
    "        matches = re.findall(r'Southern Oregon \\d+..(#[\\s\\S]+?..TM T)', text, re.DOTALL)\n",
    "        matches_date = re.findall(r'Date: \\s*(........)', text)\n",
    "\n",
    "        stats = matches[0]\n",
    "        stats = stats.strip().split(sep = '\\n')\n",
    "        split_stats = list(map(str.split, stats))\n",
    "\n",
    "        opponent = get_opponent(text)\n",
    "        title = split_stats[0] + ['Opponent'] + ['Date']\n",
    "\n",
    "        players = split_stats[1:-1]\n",
    "        players = list(map(merge_and_pop, players))\n",
    "        players = list(map(non_start, players))\n",
    "        players\n",
    "\n",
    "        if i == 0:\n",
    "            stat_dict = {key: [] for key in title}\n",
    "\n",
    "        for player in players:\n",
    "\n",
    "            for stat, data in zip(title, player):\n",
    "                stat_dict[stat].append(data)\n",
    "            # stat_dict['Opponent'].append(opponent)#new\n",
    "            # stat_dict['Date'].append(matches_date[0])#new\n",
    "        for name in split_stats[1:-1]:\n",
    "            stat_dict['Opponent'].append(opponent)\n",
    "            stat_dict['Date'].append(matches_date[0])\n",
    " \n",
    "        if len(stat_dict['PTS']) != len(stat_dict['Player']):\n",
    "            print(matches_date, 'Length of PTS and Player do not match')\n",
    "            #return\n",
    "        i += 1\n",
    "\n",
    "    return (stat_dict)"
   ]
  },
  {
   "cell_type": "markdown",
   "id": "c5445c2f",
   "metadata": {},
   "source": [
    "# Testing Area"
   ]
  },
  {
   "cell_type": "code",
   "execution_count": 92,
   "id": "5afa615e",
   "metadata": {},
   "outputs": [
    {
     "data": {
      "text/plain": [
       "35"
      ]
     },
     "execution_count": 92,
     "metadata": {},
     "output_type": "execute_result"
    }
   ],
   "source": [
    "len(folder_to_list('../data/pdf/'))"
   ]
  },
  {
   "cell_type": "code",
   "execution_count": 93,
   "id": "1001ff05",
   "metadata": {},
   "outputs": [
    {
     "name": "stdout",
     "output_type": "stream",
     "text": [
      "0 ../data/pdf/Dec14.pdf\n",
      "'Southern Oregon (9-0, 3-0 CCC) -vs- Oregon Tech (6-3, 2-1 CCC)\\n12/14/24 at Klamath Falls, Ore. (Danny Miles Court)\\nDate: 12/14/24 Score By Period 1 2 3 4 Total\\nTime: 5:30 PM\\nSouthern Oregon 5 13 20 27 65\\nAttendance: 1,210\\nSite: Klamath Falls, Ore. (Danny Miles Court) Oregon Tech 19 12 13 14 58\\nSouthern Oregon 65\\n# Player GS MIN FG 3PT FT ORB-DRB REB PF A TO BLK STL PTS\\n10 MCINTYRE,BRIDGETTE * 35 4-9 4-7 2-2 0-4 4 3 3 1 0 0 14\\n12 SCHMERBACH,EMMA * 32 5-11 0-1 3-3 2-5 7 2 3 3 3 1 13\\n20 BAIRD,MORGAN * 28 5-9 0-1 0-2 1-2 3 2 3 2 2 1 10\\n01 MCINTYRE,MEGHAN * 26 2-6 0-1 3-6 0-3 3 2 3 5 0 1 7\\n23 ROBBINS,CLARA * 13 1-1 0-0 0-0 0-5 5 2 0 1 1 1 2\\n32 DIGIULIO,ELIZA 30 2-5 1-2 4-4 2-2 4 2 0 1 0 2 9\\n33 WILLIAMS,MALLORY 5 2-2 2-2 0-0 0-1 1 1 0 0 0 0 6\\n13 WRIGHT,KEELEY 10 1-1 0-0 2-3 1-2 3 0 1 3 0 0 4\\n22 SCHEPPELE,SIERRA 12 0-1 0-1 0-0 0-2 2 0 0 0 0 0 0\\n05 SCURLOCK,MAKAYLA 9 0-2 0-2 0-0 0-1 1 1 1 0 0 0 0\\nTM TEAM 0 0-0 0-0 0-0 0-1 1 0 0 1 0 0 0\\nTotals - 200 22-47 7-17 14-20 6-28 34 15 14 17 6 6 65\\nTeam Summary FG 3PT FT\\n1st Quarter 2-13 15.38% 1-7 14.29% 0-3 0.00%\\n2nd Quarter 4-10 40.00% 1-3 33.33% 4-4 100.00%\\n3rd Quarter 7-10 70.00% 4-4 100.00% 2-2 100.00%\\n4th Quarter 9-14 64.29% 1-3 33.33% 8-11 72.73%\\nTotal 22-47 46.8% 7-17 41.2% 14-20 70.0%\\nTechnical Fouls: none Second Chance Points: 4 Scores Tied: 1 times(s) Points in the Paint: 26 Fast Break Points: 16\\nLead Changed: 1 times(s) Points off Turnovers: 14 Bench Points: 19 Largest Lead: 7 4th-00:07\\nOregon Tech 58\\n# Player GS MIN FG 3PT FT ORB-DRB REB PF A TO BLK STL PTS\\n33 RAMOS, Jozie * 21 5-8 1-1 2-3 1-3 4 3 1 3 2 0 13\\n15 ELQUIST, Alexis * 24 4-10 1-4 1-2 1-4 5 0 1 0 0 0 10\\n22 SCHMERBACH, Tatum * 32 3-9 2-4 0-0 1-5 6 3 5 5 1 1 8\\n12 GASCON, Gabbie * 34 2-12 0-3 2-2 2-6 8 3 4 3 0 4 6\\n11 TULL, Kennedy * 32 2-7 2-5 0-0 1-2 3 1 2 2 0 0 6\\n23 FEALEY, Kendall 24 3-5 0-0 1-2 0-1 1 2 1 0 0 0 7\\n05 TULL, Maddyson 18 3-8 0-0 0-1 3-0 3 2 0 1 0 0 6\\n20 WRIGHT, Kaitlyn 9 1-1 0-0 0-0 2-0 2 1 0 0 0 0 2\\n21 ANDERSON, Brooke 6 0-2 0-0 0-0 0-2 2 5 0 0 0 0 0\\n10 CHING, Chelsea 0 0-0 0-0 0-0 0-0 0 0 0 0 0 0 0\\nTM TEAM 0 0-0 0-0 0-0 2-0 2 0 0 0 0 0 0\\nTotals - 200 23-62 6-17 6-10 13-23 36 20 14 14 3 5 58\\nTeam Summary FG 3PT FT\\n1st Quarter 7-18 38.89% 3-6 50.00% 2-4 50.00%\\n2nd Quarter 4-15 26.67% 0-2 0.00% 4-5 80.00%\\n3rd Quarter 6-15 40.00% 1-4 25.00% 0-1 0.00%\\n4th Quarter 6-14 42.86% 2-5 40.00% 0-0 0.00%\\nTotal 23-62 37.1% 6-17 35.3% 6-10 60.0%\\nTechnical Fouls: none Second Chance Points: 7 Scores Tied: 0 times(s) Points in the Paint: 30 Fast Break Points: 2\\nLargest Lead: 19 2nd-\\nLead Changed: 0 times(s) Points off Turnovers: 6 Bench Points: 15 06:48'\n",
      "['MCINTYRE,BRIDGETTE', '*']\n",
      "['SCHMERBACH,EMMA', '*']\n",
      "['BAIRD,MORGAN', '*']\n",
      "['MCINTYRE,MEGHAN', '*']\n",
      "['ROBBINS,CLARA', '*']\n",
      "['DIGIULIO,ELIZA', '30']\n",
      "['WILLIAMS,MALLORY', '5']\n",
      "['WRIGHT,KEELEY', '10']\n",
      "['SCHEPPELE,SIERRA', '12']\n",
      "['SCURLOCK,MAKAYLA', '9']\n",
      "['12/14/24'] Length of PTS and Player do not match\n"
     ]
    }
   ],
   "source": [
    "#x = folder_to_csv('../data/pdf')\n",
    "x = folder_to_csv('../data/pdf/Dec14.pdf', test = True)"
   ]
  },
  {
   "cell_type": "code",
   "execution_count": null,
   "id": "c230c9e4",
   "metadata": {},
   "outputs": [],
   "source": []
  },
  {
   "cell_type": "code",
   "execution_count": 84,
   "id": "959cfae2",
   "metadata": {},
   "outputs": [
    {
     "name": "stdout",
     "output_type": "stream",
     "text": [
      "# 10\n",
      "Player 10\n",
      "GS 10\n",
      "MIN 10\n",
      "FG 10\n",
      "3PT 10\n",
      "FT 10\n",
      "ORB-DRB 10\n",
      "REB 10\n",
      "PF 10\n",
      "A 10\n",
      "TO 10\n",
      "BLK 10\n",
      "STL 10\n",
      "PTS 5\n",
      "Opponent 10\n",
      "Date 10\n"
     ]
    }
   ],
   "source": [
    "for key in x:\n",
    "    print(key, len(x[key]))"
   ]
  },
  {
   "cell_type": "code",
   "execution_count": 94,
   "id": "3587c909",
   "metadata": {},
   "outputs": [
    {
     "data": {
      "text/plain": [
       "['-', '-', '-', '-', '-', '-', '-', '-', '-', '-']"
      ]
     },
     "execution_count": 94,
     "metadata": {},
     "output_type": "execute_result"
    }
   ],
   "source": [
    "x['GS']"
   ]
  },
  {
   "cell_type": "code",
   "execution_count": 71,
   "id": "8ba8f4d8",
   "metadata": {},
   "outputs": [
    {
     "ename": "ValueError",
     "evalue": "All arrays must be of the same length",
     "output_type": "error",
     "traceback": [
      "\u001b[31m---------------------------------------------------------------------------\u001b[39m",
      "\u001b[31mValueError\u001b[39m                                Traceback (most recent call last)",
      "\u001b[36mCell\u001b[39m\u001b[36m \u001b[39m\u001b[32mIn[71]\u001b[39m\u001b[32m, line 1\u001b[39m\n\u001b[32m----> \u001b[39m\u001b[32m1\u001b[39m pd.DataFrame.from_dict(x)\n",
      "\u001b[36mFile \u001b[39m\u001b[32m/opt/anaconda3/envs/icarus/lib/python3.13/site-packages/pandas/core/frame.py:1917\u001b[39m, in \u001b[36mDataFrame.from_dict\u001b[39m\u001b[34m(cls, data, orient, dtype, columns)\u001b[39m\n\u001b[32m   1911\u001b[39m     \u001b[38;5;28;01mraise\u001b[39;00m \u001b[38;5;167;01mValueError\u001b[39;00m(\n\u001b[32m   1912\u001b[39m         \u001b[33mf\u001b[39m\u001b[33m\"\u001b[39m\u001b[33mExpected \u001b[39m\u001b[33m'\u001b[39m\u001b[33mindex\u001b[39m\u001b[33m'\u001b[39m\u001b[33m, \u001b[39m\u001b[33m'\u001b[39m\u001b[33mcolumns\u001b[39m\u001b[33m'\u001b[39m\u001b[33m or \u001b[39m\u001b[33m'\u001b[39m\u001b[33mtight\u001b[39m\u001b[33m'\u001b[39m\u001b[33m for orient parameter. \u001b[39m\u001b[33m\"\u001b[39m\n\u001b[32m   1913\u001b[39m         \u001b[33mf\u001b[39m\u001b[33m\"\u001b[39m\u001b[33mGot \u001b[39m\u001b[33m'\u001b[39m\u001b[38;5;132;01m{\u001b[39;00morient\u001b[38;5;132;01m}\u001b[39;00m\u001b[33m'\u001b[39m\u001b[33m instead\u001b[39m\u001b[33m\"\u001b[39m\n\u001b[32m   1914\u001b[39m     )\n\u001b[32m   1916\u001b[39m \u001b[38;5;28;01mif\u001b[39;00m orient != \u001b[33m\"\u001b[39m\u001b[33mtight\u001b[39m\u001b[33m\"\u001b[39m:\n\u001b[32m-> \u001b[39m\u001b[32m1917\u001b[39m     \u001b[38;5;28;01mreturn\u001b[39;00m \u001b[38;5;28mcls\u001b[39m(data, index=index, columns=columns, dtype=dtype)\n\u001b[32m   1918\u001b[39m \u001b[38;5;28;01melse\u001b[39;00m:\n\u001b[32m   1919\u001b[39m     realdata = data[\u001b[33m\"\u001b[39m\u001b[33mdata\u001b[39m\u001b[33m\"\u001b[39m]\n",
      "\u001b[36mFile \u001b[39m\u001b[32m/opt/anaconda3/envs/icarus/lib/python3.13/site-packages/pandas/core/frame.py:778\u001b[39m, in \u001b[36mDataFrame.__init__\u001b[39m\u001b[34m(self, data, index, columns, dtype, copy)\u001b[39m\n\u001b[32m    772\u001b[39m     mgr = \u001b[38;5;28mself\u001b[39m._init_mgr(\n\u001b[32m    773\u001b[39m         data, axes={\u001b[33m\"\u001b[39m\u001b[33mindex\u001b[39m\u001b[33m\"\u001b[39m: index, \u001b[33m\"\u001b[39m\u001b[33mcolumns\u001b[39m\u001b[33m\"\u001b[39m: columns}, dtype=dtype, copy=copy\n\u001b[32m    774\u001b[39m     )\n\u001b[32m    776\u001b[39m \u001b[38;5;28;01melif\u001b[39;00m \u001b[38;5;28misinstance\u001b[39m(data, \u001b[38;5;28mdict\u001b[39m):\n\u001b[32m    777\u001b[39m     \u001b[38;5;66;03m# GH#38939 de facto copy defaults to False only in non-dict cases\u001b[39;00m\n\u001b[32m--> \u001b[39m\u001b[32m778\u001b[39m     mgr = dict_to_mgr(data, index, columns, dtype=dtype, copy=copy, typ=manager)\n\u001b[32m    779\u001b[39m \u001b[38;5;28;01melif\u001b[39;00m \u001b[38;5;28misinstance\u001b[39m(data, ma.MaskedArray):\n\u001b[32m    780\u001b[39m     \u001b[38;5;28;01mfrom\u001b[39;00m\u001b[38;5;250m \u001b[39m\u001b[34;01mnumpy\u001b[39;00m\u001b[34;01m.\u001b[39;00m\u001b[34;01mma\u001b[39;00m\u001b[38;5;250m \u001b[39m\u001b[38;5;28;01mimport\u001b[39;00m mrecords\n",
      "\u001b[36mFile \u001b[39m\u001b[32m/opt/anaconda3/envs/icarus/lib/python3.13/site-packages/pandas/core/internals/construction.py:503\u001b[39m, in \u001b[36mdict_to_mgr\u001b[39m\u001b[34m(data, index, columns, dtype, typ, copy)\u001b[39m\n\u001b[32m    499\u001b[39m     \u001b[38;5;28;01melse\u001b[39;00m:\n\u001b[32m    500\u001b[39m         \u001b[38;5;66;03m# dtype check to exclude e.g. range objects, scalars\u001b[39;00m\n\u001b[32m    501\u001b[39m         arrays = [x.copy() \u001b[38;5;28;01mif\u001b[39;00m \u001b[38;5;28mhasattr\u001b[39m(x, \u001b[33m\"\u001b[39m\u001b[33mdtype\u001b[39m\u001b[33m\"\u001b[39m) \u001b[38;5;28;01melse\u001b[39;00m x \u001b[38;5;28;01mfor\u001b[39;00m x \u001b[38;5;129;01min\u001b[39;00m arrays]\n\u001b[32m--> \u001b[39m\u001b[32m503\u001b[39m \u001b[38;5;28;01mreturn\u001b[39;00m arrays_to_mgr(arrays, columns, index, dtype=dtype, typ=typ, consolidate=copy)\n",
      "\u001b[36mFile \u001b[39m\u001b[32m/opt/anaconda3/envs/icarus/lib/python3.13/site-packages/pandas/core/internals/construction.py:114\u001b[39m, in \u001b[36marrays_to_mgr\u001b[39m\u001b[34m(arrays, columns, index, dtype, verify_integrity, typ, consolidate)\u001b[39m\n\u001b[32m    111\u001b[39m \u001b[38;5;28;01mif\u001b[39;00m verify_integrity:\n\u001b[32m    112\u001b[39m     \u001b[38;5;66;03m# figure out the index, if necessary\u001b[39;00m\n\u001b[32m    113\u001b[39m     \u001b[38;5;28;01mif\u001b[39;00m index \u001b[38;5;129;01mis\u001b[39;00m \u001b[38;5;28;01mNone\u001b[39;00m:\n\u001b[32m--> \u001b[39m\u001b[32m114\u001b[39m         index = _extract_index(arrays)\n\u001b[32m    115\u001b[39m     \u001b[38;5;28;01melse\u001b[39;00m:\n\u001b[32m    116\u001b[39m         index = ensure_index(index)\n",
      "\u001b[36mFile \u001b[39m\u001b[32m/opt/anaconda3/envs/icarus/lib/python3.13/site-packages/pandas/core/internals/construction.py:677\u001b[39m, in \u001b[36m_extract_index\u001b[39m\u001b[34m(data)\u001b[39m\n\u001b[32m    675\u001b[39m lengths = \u001b[38;5;28mlist\u001b[39m(\u001b[38;5;28mset\u001b[39m(raw_lengths))\n\u001b[32m    676\u001b[39m \u001b[38;5;28;01mif\u001b[39;00m \u001b[38;5;28mlen\u001b[39m(lengths) > \u001b[32m1\u001b[39m:\n\u001b[32m--> \u001b[39m\u001b[32m677\u001b[39m     \u001b[38;5;28;01mraise\u001b[39;00m \u001b[38;5;167;01mValueError\u001b[39;00m(\u001b[33m\"\u001b[39m\u001b[33mAll arrays must be of the same length\u001b[39m\u001b[33m\"\u001b[39m)\n\u001b[32m    679\u001b[39m \u001b[38;5;28;01mif\u001b[39;00m have_dicts:\n\u001b[32m    680\u001b[39m     \u001b[38;5;28;01mraise\u001b[39;00m \u001b[38;5;167;01mValueError\u001b[39;00m(\n\u001b[32m    681\u001b[39m         \u001b[33m\"\u001b[39m\u001b[33mMixing dicts with non-Series may lead to ambiguous ordering.\u001b[39m\u001b[33m\"\u001b[39m\n\u001b[32m    682\u001b[39m     )\n",
      "\u001b[31mValueError\u001b[39m: All arrays must be of the same length"
     ]
    }
   ],
   "source": [
    "pd.DataFrame.from_dict(x)"
   ]
  },
  {
   "cell_type": "code",
   "execution_count": null,
   "id": "f8f9fc3c",
   "metadata": {},
   "outputs": [],
   "source": []
  }
 ],
 "metadata": {
  "kernelspec": {
   "display_name": "icarus",
   "language": "python",
   "name": "python3"
  },
  "language_info": {
   "codemirror_mode": {
    "name": "ipython",
    "version": 3
   },
   "file_extension": ".py",
   "mimetype": "text/x-python",
   "name": "python",
   "nbconvert_exporter": "python",
   "pygments_lexer": "ipython3",
   "version": "3.13.2"
  }
 },
 "nbformat": 4,
 "nbformat_minor": 5
}
